{
 "cells": [
  {
   "cell_type": "code",
   "execution_count": null,
   "id": "e6c9b6ea",
   "metadata": {},
   "outputs": [],
   "source": [
    "# Erklärung der Funktionen von Football Map --> Übertitel Seite"
   ]
  },
  {
   "cell_type": "code",
   "execution_count": null,
   "id": "fea3f151",
   "metadata": {},
   "outputs": [],
   "source": [
    "## Startpage --> 1.Untertitel Seite"
   ]
  },
  {
   "cell_type": "code",
   "execution_count": null,
   "id": "83c76183",
   "metadata": {},
   "outputs": [],
   "source": [
    "### Funktionen: --> 2.Untertitel Seite"
   ]
  },
  {
   "cell_type": "code",
   "execution_count": null,
   "id": "19bd27cf",
   "metadata": {},
   "outputs": [],
   "source": [
    "| Land           | Anz. Ligen |\n",
    "|----------------|------------|\n",
    "| Schweiz        | 5          |\n",
    "| Deutschland    | 3          |\n",
    "| England        | 3          |\n",
    "| Frankreich     | 3          |\n",
    "| Italien        | 3          |\n",
    "| Österreich     | 3          |\n",
    "| Spanien        | 3          |\n",
    "| Belgien        | 2          |\n",
    "| Dänemark       | 2          |\n",
    "| Griechenland   | 2          |\n",
    "#Tabelle erstellen"
   ]
  },
  {
   "cell_type": "markdown",
   "id": "886c7a54",
   "metadata": {},
   "source": [
    "[UEFA Ranking](https://www.uefa.com/nationalassociations/uefarankings/country/?year=2024) --> Link definieren Output UEFA Rankung"
   ]
  },
  {
   "cell_type": "markdown",
   "id": "b41757b5",
   "metadata": {},
   "source": [
    "<div id=\"startpage\"></div> --> Definition des Text "
   ]
  },
  {
   "cell_type": "code",
   "execution_count": null,
   "id": "9917396c",
   "metadata": {},
   "outputs": [],
   "source": [
    "[Player Origin](#player-origin) --> Verweis auf andere Komponenten im Code"
   ]
  },
  {
   "cell_type": "code",
   "execution_count": null,
   "id": "cbad049c",
   "metadata": {},
   "outputs": [],
   "source": [
    "![Mehrere Ligen](GIFs/Startpage_1.gif) --> Visualisierungen einbauen "
   ]
  },
  {
   "cell_type": "code",
   "execution_count": null,
   "id": "99904ac2",
   "metadata": {},
   "outputs": [],
   "source": [
    "- Dropdownauswahl nach Land, wobei die Funktionen --> bullet points darstellen"
   ]
  },
  {
   "cell_type": "code",
   "execution_count": null,
   "id": "ff013c94",
   "metadata": {},
   "outputs": [],
   "source": [
    "[↑](#top) --> Funktion Ende Seite nach oben"
   ]
  },
  {
   "cell_type": "code",
   "execution_count": null,
   "id": "1928593c",
   "metadata": {},
   "outputs": [],
   "source": [
    "  <div>\n",
    "    <a href=\"einleitung.html\">← Einleitung</a>\n",
    "  </div>\n",
    "  <div>\n",
    "    <a href=\"aufbauGDI.html\">Aufbau GDI →</a>\n",
    "  </div>\n",
    "#Seite zurück und nach vorne "
   ]
  },
  {
   "cell_type": "code",
   "execution_count": null,
   "id": "20922217",
   "metadata": {},
   "outputs": [],
   "source": [
    "***Umsetzung Backend:*** --> text fett und kursiv"
   ]
  },
  {
   "cell_type": "code",
   "execution_count": null,
   "id": "663bd095",
   "metadata": {},
   "outputs": [],
   "source": []
  }
 ],
 "metadata": {
  "language_info": {
   "name": "python"
  }
 },
 "nbformat": 4,
 "nbformat_minor": 5
}
